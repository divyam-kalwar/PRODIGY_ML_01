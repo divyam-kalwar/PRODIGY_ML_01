{
 "cells": [
  {
   "cell_type": "code",
   "execution_count": null,
   "id": "58d844fe-c2b7-42d7-bac4-a1961b672114",
   "metadata": {},
   "outputs": [],
   "source": [
    "import numpy as np\n",
    "import pandas as pd\n",
    "from sklearn.model_selection import train_test_split\n",
    "from sklearn.linear_model import LinearRegression\n",
    "from sklearn.metrics import mean_squared_error, r2_score\n",
    "import matplotlib.pyplot as plt\n",
    "\n",
    "# Load the dataset (Assuming 'train.csv' contains the required columns)\n",
    "train0 = pd.read_csv('train.csv')\n",
    "test0 = pd.read_csv('test.csv')\n",
    "\n",
    "data0 = pd.concat[train0.loc,test0"
   ]
  },
  {
   "cell_type": "code",
   "execution_count": null,
   "id": "7bde37a7-4726-444b-9824-ddd206aa6a02",
   "metadata": {},
   "outputs": [],
   "source": [
    "# Select relevant features and target variable\n",
    "features = data[['GrLivArea', 'BedroomAbvGr', 'FullBath', 'HalfBath']]\n",
    "target = data['SalePrice']\n",
    "\n",
    "# Split the data into training and testing sets\n",
    "X_train, X_test, y_train, y_test = train_test_split(features, target, test_size=0.2, random_state=42)\n",
    "\n",
    "# Initialize the linear regression model\n",
    "model = LinearRegression()\n",
    "\n",
    "# Train the model on the training set\n",
    "model.fit(X_train, y_train)\n",
    "\n",
    "# Make predictions on the test set\n",
    "y_pred = model.predict(X_test)\n",
    "\n",
    "# Evaluate the model\n",
    "mse = mean_squared_error(y_test, y_pred)\n",
    "r2 = r2_score(y_test, y_pred)\n",
    "\n",
    "print(f'Mean Squared Error: {mse}')\n",
    "print(f'R-squared Score: {r2}')\n",
    "\n",
    "# Visualize the predictions vs actual values\n",
    "plt.scatter(X_test['GrLivArea'], y_test, color='blue', label='Actual Prices')\n",
    "plt.scatter(X_test['GrLivArea'], y_pred, color='red', label='Predicted Prices')\n",
    "plt.xlabel('Square Footage (GrLivArea)')\n",
    "plt.ylabel('Sale Price')\n",
    "plt.title('Linear Regression: Predicted vs Actual Prices')\n",
    "plt.legend()\n",
    "plt.show()"
   ]
  }
 ],
 "metadata": {
  "kernelspec": {
   "display_name": "Python 3 (ipykernel)",
   "language": "python",
   "name": "python3"
  },
  "language_info": {
   "codemirror_mode": {
    "name": "ipython",
    "version": 3
   },
   "file_extension": ".py",
   "mimetype": "text/x-python",
   "name": "python",
   "nbconvert_exporter": "python",
   "pygments_lexer": "ipython3",
   "version": "3.11.5"
  }
 },
 "nbformat": 4,
 "nbformat_minor": 5
}
